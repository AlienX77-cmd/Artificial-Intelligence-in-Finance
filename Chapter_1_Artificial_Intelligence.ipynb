{
  "nbformat": 4,
  "nbformat_minor": 0,
  "metadata": {
    "colab": {
      "provenance": [],
      "authorship_tag": "ABX9TyP9OsPP92nbUYJu0yY04M+w",
      "include_colab_link": true
    },
    "kernelspec": {
      "name": "python3",
      "display_name": "Python 3"
    },
    "language_info": {
      "name": "python"
    }
  },
  "cells": [
    {
      "cell_type": "markdown",
      "metadata": {
        "id": "view-in-github",
        "colab_type": "text"
      },
      "source": [
        "<a href=\"https://colab.research.google.com/github/AlienX77-cmd/Artificial-Intelligence-in-Finance/blob/main/Chapter_1_Artificial_Intelligence.ipynb\" target=\"_parent\"><img src=\"https://colab.research.google.com/assets/colab-badge.svg\" alt=\"Open In Colab\"/></a>"
      ]
    },
    {
      "cell_type": "markdown",
      "source": [
        "#**K-Means Clustering**"
      ],
      "metadata": {
        "id": "C7NPGW1trt01"
      }
    },
    {
      "cell_type": "code",
      "execution_count": 1,
      "metadata": {
        "id": "54YePNyNpYll"
      },
      "outputs": [],
      "source": [
        "import numpy as np\n",
        "import pandas as pd\n",
        "from pylab import plt, mpl"
      ]
    },
    {
      "cell_type": "code",
      "source": [
        "plt.style.use('seaborn')\n",
        "mpl.rcParams['savefig.dpi'] = 300\n",
        "mpl.rcParams['font.family'] = 'serif'\n",
        "np.set_printoptions(precision=4, suppress=True)"
      ],
      "metadata": {
        "id": "XpDyyznKpnP-"
      },
      "execution_count": 2,
      "outputs": []
    },
    {
      "cell_type": "code",
      "source": [
        "from sklearn.cluster import KMeans\n",
        "from sklearn.datasets import make_blobs"
      ],
      "metadata": {
        "id": "uibskAOypy_7"
      },
      "execution_count": 3,
      "outputs": []
    },
    {
      "cell_type": "code",
      "source": [
        "# Creating a Sample Data set with clustered features data\n",
        "x, y = make_blobs(n_samples=100, centers=4, random_state=500, cluster_std=1.25)"
      ],
      "metadata": {
        "id": "cP-t4JzUp3Xa"
      },
      "execution_count": 4,
      "outputs": []
    },
    {
      "cell_type": "code",
      "source": [
        "print(x)"
      ],
      "metadata": {
        "colab": {
          "base_uri": "https://localhost:8080/"
        },
        "id": "nUTHraqxqD4Y",
        "outputId": "5adc35ca-3c9c-4c51-ea24-2a50fa01f0db"
      },
      "execution_count": 5,
      "outputs": [
        {
          "output_type": "stream",
          "name": "stdout",
          "text": [
            "[[  0.6415   2.1136]\n",
            " [  3.4809   2.5586]\n",
            " [-10.3492  -3.3263]\n",
            " [ -2.4124  -1.5804]\n",
            " [ -8.2361  -3.4989]\n",
            " [ -7.8003  -0.2203]\n",
            " [  4.0447   2.3708]\n",
            " [  0.1497  -4.6458]\n",
            " [-10.3966  -0.9245]\n",
            " [ -0.2041  -3.2118]\n",
            " [  0.8475  -2.7742]\n",
            " [  3.3432   1.2531]\n",
            " [  3.7126  -3.4982]\n",
            " [  3.8986 -10.7406]\n",
            " [  5.9695  -9.3423]\n",
            " [  4.4517   2.3883]\n",
            " [  0.158   -4.3971]\n",
            " [  4.3789  -8.5988]\n",
            " [  1.4885  -3.4224]\n",
            " [  4.4234  -7.4272]\n",
            " [  2.9223  -7.2315]\n",
            " [  2.7127   0.1924]\n",
            " [ -8.5708  -3.6406]\n",
            " [ -0.0395  -3.771 ]\n",
            " [ -7.9378  -3.3119]\n",
            " [ -8.4734   0.3594]\n",
            " [  6.295   -7.5128]\n",
            " [  2.5472 -10.5263]\n",
            " [ -7.8912  -3.5318]\n",
            " [  3.0091   1.3005]\n",
            " [  0.2423  -3.4056]\n",
            " [ -7.8157  -2.3954]\n",
            " [ -7.849   -1.0297]\n",
            " [  4.5553  -9.1797]\n",
            " [ -6.5393  -2.8056]\n",
            " [  5.0157   4.5534]\n",
            " [ -9.0692  -0.2524]\n",
            " [  5.0135   0.1638]\n",
            " [  1.8022  -2.127 ]\n",
            " [  0.5399  -3.6447]\n",
            " [ -2.0724  -3.9961]\n",
            " [ -8.3051  -2.6332]\n",
            " [  6.2304  -8.2145]\n",
            " [  4.6281  -8.4763]\n",
            " [  4.6546   1.9391]\n",
            " [ -6.7379  -1.3512]\n",
            " [  1.0533  -5.7953]\n",
            " [  3.5397  -9.2808]\n",
            " [ -1.6998  -3.657 ]\n",
            " [  4.3341  -9.388 ]\n",
            " [  2.0179   2.1312]\n",
            " [  4.923   -8.8902]\n",
            " [ -8.157   -0.8496]\n",
            " [  3.8999  -8.6245]\n",
            " [-10.2628  -2.8146]\n",
            " [  3.8254   1.3162]\n",
            " [ -8.3903  -5.6386]\n",
            " [  2.2966  -4.0877]\n",
            " [  1.7033  -9.1496]\n",
            " [  3.5424   1.0707]\n",
            " [ -8.7198  -1.0432]\n",
            " [  4.2286  -9.3529]\n",
            " [  1.0697   0.95  ]\n",
            " [  0.1764  -0.6329]\n",
            " [  2.0582   1.7199]\n",
            " [  4.1903  -7.8153]\n",
            " [ -7.5491  -2.7681]\n",
            " [ -9.3835  -2.2348]\n",
            " [ -8.0549  -2.9192]\n",
            " [ -0.8155  -3.1446]\n",
            " [  4.2149  -0.0688]\n",
            " [ -9.6761  -2.8525]\n",
            " [  1.6986  -5.3913]\n",
            " [  3.7725  -7.7228]\n",
            " [ -2.4117  -4.2856]\n",
            " [  2.0919   0.8002]\n",
            " [ -0.7105  -2.6943]\n",
            " [  3.6263  -9.0409]\n",
            " [ -0.2615  -3.7289]\n",
            " [ -0.3803  -3.4487]\n",
            " [ -6.9243  -4.1795]\n",
            " [  4.5873   1.126 ]\n",
            " [ -7.5587  -4.021 ]\n",
            " [  4.6422   3.5156]\n",
            " [ -0.8256  -4.4453]\n",
            " [  0.3981  -3.0839]\n",
            " [  4.5025   2.6078]\n",
            " [ -0.4799  -2.1545]\n",
            " [  3.8148  -7.3241]\n",
            " [  2.3514 -10.5518]\n",
            " [  3.6604  -7.3145]\n",
            " [  2.2257   3.1651]\n",
            " [  2.3616   2.1401]\n",
            " [  4.5728   1.7997]\n",
            " [  3.3785   2.7598]\n",
            " [  5.8329  -8.1792]\n",
            " [  4.1282   0.3625]\n",
            " [ -7.5931  -2.8863]\n",
            " [  2.6734  -9.8334]\n",
            " [  5.1855  -6.6859]]\n"
          ]
        }
      ]
    },
    {
      "cell_type": "code",
      "source": [
        "print(y)"
      ],
      "metadata": {
        "colab": {
          "base_uri": "https://localhost:8080/"
        },
        "id": "6eryjAjxqH1U",
        "outputId": "e6ef4b29-246a-484c-beb2-cca78385e142"
      },
      "execution_count": 6,
      "outputs": [
        {
          "output_type": "stream",
          "name": "stdout",
          "text": [
            "[1 1 2 3 2 2 1 3 2 3 3 1 3 0 0 1 3 0 3 0 0 1 2 3 2 2 0 0 2 1 3 2 2 0 2 1 2\n",
            " 1 3 3 3 2 0 0 1 2 3 0 3 0 1 0 2 0 2 1 2 3 0 1 2 0 1 3 1 0 2 2 2 3 1 2 3 0\n",
            " 3 1 3 0 3 3 2 1 2 1 3 3 1 3 0 0 0 1 1 1 1 0 1 2 0 0]\n"
          ]
        }
      ]
    },
    {
      "cell_type": "code",
      "source": [
        "# A KMeans model object is instantiated, fixing the number of clusters\n",
        "model = KMeans(n_clusters=4, random_state=0)"
      ],
      "metadata": {
        "id": "3Do2Lz6vqJ0P"
      },
      "execution_count": 7,
      "outputs": []
    },
    {
      "cell_type": "code",
      "source": [
        "# The model is fitted to the features data\n",
        "model.fit(x)"
      ],
      "metadata": {
        "colab": {
          "base_uri": "https://localhost:8080/"
        },
        "id": "9cp-7KE6qYQc",
        "outputId": "702ad39e-f783-4abc-9497-33e5c2a00e1d"
      },
      "execution_count": 8,
      "outputs": [
        {
          "output_type": "execute_result",
          "data": {
            "text/plain": [
              "KMeans(n_clusters=4, random_state=0)"
            ]
          },
          "metadata": {},
          "execution_count": 8
        }
      ]
    },
    {
      "cell_type": "code",
      "source": [
        "# The predictions are generated give the fitted model\n",
        "Prediction = model.predict(x)"
      ],
      "metadata": {
        "id": "TTomgm62qboQ"
      },
      "execution_count": 9,
      "outputs": []
    },
    {
      "cell_type": "code",
      "source": [
        "# The Predictions are numbers from 0 to 3, each representing one cluster\n",
        "Prediction"
      ],
      "metadata": {
        "colab": {
          "base_uri": "https://localhost:8080/"
        },
        "id": "JubUeZzeqiS3",
        "outputId": "fc3fa7da-90b2-447d-dc69-fa0bc3a50a62"
      },
      "execution_count": 10,
      "outputs": [
        {
          "output_type": "execute_result",
          "data": {
            "text/plain": [
              "array([0, 0, 2, 1, 2, 2, 0, 1, 2, 1, 1, 0, 1, 3, 3, 0, 1, 3, 1, 3, 3, 0,\n",
              "       2, 1, 2, 2, 3, 3, 2, 0, 1, 2, 2, 3, 2, 0, 2, 0, 1, 1, 1, 2, 3, 3,\n",
              "       0, 2, 1, 3, 1, 3, 0, 3, 2, 3, 2, 0, 2, 1, 3, 0, 2, 3, 0, 1, 0, 3,\n",
              "       2, 2, 2, 1, 0, 2, 1, 3, 1, 0, 1, 3, 1, 1, 2, 0, 2, 0, 1, 1, 0, 1,\n",
              "       3, 3, 3, 0, 0, 0, 0, 3, 0, 2, 3, 3], dtype=int32)"
            ]
          },
          "metadata": {},
          "execution_count": 10
        }
      ]
    },
    {
      "cell_type": "code",
      "source": [
        "# Plotting\n",
        "plt.figure(figsize=(10, 6))\n",
        "plt.scatter(x[:, 0], x[:, 1], c=Prediction, cmap='coolwarm')"
      ],
      "metadata": {
        "colab": {
          "base_uri": "https://localhost:8080/",
          "height": 391
        },
        "id": "kHZMzThuqjdg",
        "outputId": "df0ddc1b-9c4d-4540-db57-9aabe05ecb65"
      },
      "execution_count": 11,
      "outputs": [
        {
          "output_type": "execute_result",
          "data": {
            "text/plain": [
              "<matplotlib.collections.PathCollection at 0x7facc6349fa0>"
            ]
          },
          "metadata": {},
          "execution_count": 11
        },
        {
          "output_type": "display_data",
          "data": {
            "text/plain": [
              "<Figure size 720x432 with 1 Axes>"
            ],
            "image/png": "[encoded data removed]"
          },
          "metadata": {}
        }
      ]
    },
    {
      "cell_type": "markdown",
      "source": [
        "#**Reinforcement Learning**"
      ],
      "metadata": {
        "id": "K7QPLSO8r0tc"
      }
    },
    {
      "cell_type": "markdown",
      "source": [
        "The following example is based on a coin tossing game that is played with a coin that lands 80% of the time on heads and 20% of the time on tails. The coin tossing game is heavily biased to emphasize the benefits of learning as compared to an uninformed baseline algorithm.\n",
        "\n",
        "The baseline algorithm, which bets randomly and equally distributes on heads and tails, achieves a total reward of around 50, on average, per epoch of 100 bets played."
      ],
      "metadata": {
        "id": "MXp-AtIar_Kk"
      }
    },
    {
      "cell_type": "code",
      "source": [
        "# The State Space (1 = heads, 0 = tails)\n",
        "State_Space = [1, 1, 1, 1, 0]"
      ],
      "metadata": {
        "id": "GSifbR_arAgD"
      },
      "execution_count": 12,
      "outputs": []
    },
    {
      "cell_type": "code",
      "source": [
        "# The Action Space (1 = heads, 0 = tails)\n",
        "Action_Space = [1, 0]"
      ],
      "metadata": {
        "id": "4uFzAKHmsmBz"
      },
      "execution_count": 13,
      "outputs": []
    },
    {
      "cell_type": "code",
      "source": [
        "def epoch():\n",
        "  total_reward = 0\n",
        "  for i in range(100):\n",
        "    a = np.random.choice(Action_Space) # An action is randomly chosen from the action space\n",
        "    s = np.random.choice(State_Space) # A state is randomly chosen from the state space \n",
        "    if a == s:\n",
        "      total_reward += 1 # The total reward is increased by one if the bet is correct.\n",
        "  return total_reward"
      ],
      "metadata": {
        "id": "c1hVwrLDsupU"
      },
      "execution_count": 14,
      "outputs": []
    },
    {
      "cell_type": "code",
      "source": [
        "# The game is played for a number of epochs; each epoch is 100 bets.\n",
        "Reinforcement_Learning = np.array([epoch() for n in range(15)])"
      ],
      "metadata": {
        "id": "PwCZlbXmtfIl"
      },
      "execution_count": 15,
      "outputs": []
    },
    {
      "cell_type": "code",
      "source": [
        "Reinforcement_Learning"
      ],
      "metadata": {
        "colab": {
          "base_uri": "https://localhost:8080/"
        },
        "id": "56dmCh4Qtxg1",
        "outputId": "acc88065-9a0b-469c-ab76-e9d22235932e"
      },
      "execution_count": 16,
      "outputs": [
        {
          "output_type": "execute_result",
          "data": {
            "text/plain": [
              "array([50, 52, 54, 50, 44, 59, 45, 45, 56, 52, 54, 43, 59, 47, 58])"
            ]
          },
          "metadata": {},
          "execution_count": 16
        }
      ]
    },
    {
      "cell_type": "code",
      "source": [
        "# The average total reward of the epochs played is calculated.\n",
        "print(round(Reinforcement_Learning.mean(), 2))"
      ],
      "metadata": {
        "colab": {
          "base_uri": "https://localhost:8080/"
        },
        "id": "9S6qdEiEtzFM",
        "outputId": "876cd8e4-d2c3-4094-a64e-66947ab2d83d"
      },
      "execution_count": 17,
      "outputs": [
        {
          "output_type": "stream",
          "name": "stdout",
          "text": [
            "51.2\n"
          ]
        }
      ]
    },
    {
      "cell_type": "markdown",
      "source": [
        "Reinforcement Learning tries to learn from what is observed after an action is taken, usually based on a reward. To keep things simple, the following learning algorithm only keeps track of the states that are observed in each round insofar as they are appended to the action space list object. In this way, the algorithm learns the bias in the game, though maybe not perfectly. By randomly sampling from the updated action space, the bias is reflected because naturally the bet will more often be heads. Over time, heads are chosen, on average, around 80% of the time."
      ],
      "metadata": {
        "id": "AVIkKsgovVEE"
      }
    },
    {
      "cell_type": "code",
      "source": [
        "State_Space2 = [1, 1, 1, 1, 0]"
      ],
      "metadata": {
        "id": "9rVttW6buQly"
      },
      "execution_count": 18,
      "outputs": []
    },
    {
      "cell_type": "code",
      "source": [
        "def epoch2():\n",
        "  total_reward = 0\n",
        "  Action_Space = [0, 1]\n",
        "  for i in range(100):\n",
        "    a = np.random.choice(Action_Space)\n",
        "    s = np.random.choice(State_Space)\n",
        "    if a == s:\n",
        "      total_reward += 1\n",
        "    Action_Space.append(s) # Adds the observed state to the action space\n",
        "  return total_reward"
      ],
      "metadata": {
        "id": "I8WPxjCGv2cq"
      },
      "execution_count": 19,
      "outputs": []
    },
    {
      "cell_type": "code",
      "source": [
        "Reinforcement_Learning2 = np.array([epoch2() for n in range(15)])"
      ],
      "metadata": {
        "id": "TWS1f2O5wU2t"
      },
      "execution_count": 20,
      "outputs": []
    },
    {
      "cell_type": "code",
      "source": [
        "Reinforcement_Learning2"
      ],
      "metadata": {
        "colab": {
          "base_uri": "https://localhost:8080/"
        },
        "id": "R49g2xj_wgVu",
        "outputId": "ce7fc41a-3c0c-49d1-cf96-5666b9477e85"
      },
      "execution_count": 21,
      "outputs": [
        {
          "output_type": "execute_result",
          "data": {
            "text/plain": [
              "array([73, 68, 71, 63, 67, 62, 69, 71, 65, 73, 64, 66, 70, 55, 63])"
            ]
          },
          "metadata": {},
          "execution_count": 21
        }
      ]
    },
    {
      "cell_type": "code",
      "source": [
        "print(round(Reinforcement_Learning2.mean(), 2))"
      ],
      "metadata": {
        "colab": {
          "base_uri": "https://localhost:8080/"
        },
        "id": "7EOdKEPJwiLV",
        "outputId": "15b8f18e-c5bc-45af-a026-d9e9cf06d8c6"
      },
      "execution_count": 22,
      "outputs": [
        {
          "output_type": "stream",
          "name": "stdout",
          "text": [
            "66.67\n"
          ]
        }
      ]
    },
    {
      "cell_type": "markdown",
      "source": [
        "The Reinforcement Learning is improved"
      ],
      "metadata": {
        "id": "DK_sIVcXwrxy"
      }
    },
    {
      "cell_type": "markdown",
      "source": [
        "#**Neural Networks**"
      ],
      "metadata": {
        "id": "f4xuoIR3zXpy"
      }
    },
    {
      "cell_type": "markdown",
      "source": [
        "##**OLS Regression**"
      ],
      "metadata": {
        "id": "5fSH2MFpza5S"
      }
    },
    {
      "cell_type": "code",
      "source": [
        "def f(x):\n",
        "  return 2*(x**2) - (x**3)/3 # The mathematical funtion as a Python function"
      ],
      "metadata": {
        "id": "bB1wZlAawkRo"
      },
      "execution_count": 23,
      "outputs": []
    },
    {
      "cell_type": "code",
      "source": [
        "x = np.linspace(-2, 4, 25) # The input values (Start from -2, increase by 0.25 and end at 4)"
      ],
      "metadata": {
        "id": "NgZ2GRcxzrxI"
      },
      "execution_count": 24,
      "outputs": []
    },
    {
      "cell_type": "code",
      "source": [
        "x # The input values"
      ],
      "metadata": {
        "colab": {
          "base_uri": "https://localhost:8080/"
        },
        "id": "Z7zsJc-azwGf",
        "outputId": "4896dff7-349d-4449-a5b1-39727af19f54"
      },
      "execution_count": 25,
      "outputs": [
        {
          "output_type": "execute_result",
          "data": {
            "text/plain": [
              "array([-2.  , -1.75, -1.5 , -1.25, -1.  , -0.75, -0.5 , -0.25,  0.  ,\n",
              "        0.25,  0.5 ,  0.75,  1.  ,  1.25,  1.5 ,  1.75,  2.  ,  2.25,\n",
              "        2.5 ,  2.75,  3.  ,  3.25,  3.5 ,  3.75,  4.  ])"
            ]
          },
          "metadata": {},
          "execution_count": 25
        }
      ]
    },
    {
      "cell_type": "code",
      "source": [
        "y = f(x) # The output values"
      ],
      "metadata": {
        "id": "fYJehfimzwo_"
      },
      "execution_count": 26,
      "outputs": []
    },
    {
      "cell_type": "code",
      "source": [
        "y # The output values"
      ],
      "metadata": {
        "colab": {
          "base_uri": "https://localhost:8080/"
        },
        "id": "erp8bksr0ENu",
        "outputId": "a64c7432-0733-4cfc-f143-4c06578664ab"
      },
      "execution_count": 27,
      "outputs": [
        {
          "output_type": "execute_result",
          "data": {
            "text/plain": [
              "array([10.6667,  7.9115,  5.625 ,  3.776 ,  2.3333,  1.2656,  0.5417,\n",
              "        0.1302,  0.    ,  0.1198,  0.4583,  0.9844,  1.6667,  2.474 ,\n",
              "        3.375 ,  4.3385,  5.3333,  6.3281,  7.2917,  8.1927,  9.    ,\n",
              "        9.6823, 10.2083, 10.5469, 10.6667])"
            ]
          },
          "metadata": {},
          "execution_count": 27
        }
      ]
    },
    {
      "cell_type": "code",
      "source": [
        "plt.figure(figsize=(10, 6))\n",
        "plt.plot(x, y, 'ro', label='sample data')\n",
        "plt.legend()"
      ],
      "metadata": {
        "colab": {
          "base_uri": "https://localhost:8080/",
          "height": 391
        },
        "id": "N-i5OPOi0I0o",
        "outputId": "cb247225-323a-42c8-a9c6-7e63e8c60b28"
      },
      "execution_count": 28,
      "outputs": [
        {
          "output_type": "execute_result",
          "data": {
            "text/plain": [
              "<matplotlib.legend.Legend at 0x7faccb431850>"
            ]
          },
          "metadata": {},
          "execution_count": 28
        },
        {
          "output_type": "display_data",
          "data": {
            "text/plain": [
              "<Figure size 720x432 with 1 Axes>"
            ],
            "image/png": "[encoded data removed]"
          },
          "metadata": {}
        }
      ]
    },
    {
      "cell_type": "markdown",
      "source": [
        "The following Python code calculates the optimal parameter values, linearly estimates (approximates) the output values, and plots the linear regression line alongside the sample data. The linear regression approach does not work too well here in approximating the functional relationship. This is confirmed by the relatively high MSE value"
      ],
      "metadata": {
        "id": "gSFTFyLU4D9h"
      }
    },
    {
      "cell_type": "code",
      "source": [
        "beta = np.cov(x, y, ddof=0)[0, 1] / np.var(x) # Calculation of beta"
      ],
      "metadata": {
        "id": "_HsFTOMP0V44"
      },
      "execution_count": 29,
      "outputs": []
    },
    {
      "cell_type": "code",
      "source": [
        "beta # Calculation of beta"
      ],
      "metadata": {
        "colab": {
          "base_uri": "https://localhost:8080/"
        },
        "id": "VQbDrsTq4Zgb",
        "outputId": "f275ff1e-b141-41c0-a655-4a4ccd07fc42"
      },
      "execution_count": 30,
      "outputs": [
        {
          "output_type": "execute_result",
          "data": {
            "text/plain": [
              "1.0541666666666667"
            ]
          },
          "metadata": {},
          "execution_count": 30
        }
      ]
    },
    {
      "cell_type": "code",
      "source": [
        "alpha = y.mean() - (beta * x.mean()) # Calculation of alpha"
      ],
      "metadata": {
        "id": "achHNxJV4dBw"
      },
      "execution_count": 31,
      "outputs": []
    },
    {
      "cell_type": "code",
      "source": [
        "alpha # Calculation of alpha"
      ],
      "metadata": {
        "colab": {
          "base_uri": "https://localhost:8080/"
        },
        "id": "GhWQ5Qe54lRW",
        "outputId": "1541641f-9b4d-4133-e581-94fac1fd3699"
      },
      "execution_count": 32,
      "outputs": [
        {
          "output_type": "execute_result",
          "data": {
            "text/plain": [
              "3.8625000000000003"
            ]
          },
          "metadata": {},
          "execution_count": 32
        }
      ]
    },
    {
      "cell_type": "code",
      "source": [
        "y_pred = alpha + (beta * x) # Calculation of estimated output values (using Linear Equation with closed form parameters)"
      ],
      "metadata": {
        "id": "FHpA7PNH4l0F"
      },
      "execution_count": 33,
      "outputs": []
    },
    {
      "cell_type": "code",
      "source": [
        "y_pred"
      ],
      "metadata": {
        "colab": {
          "base_uri": "https://localhost:8080/"
        },
        "id": "hr9oDX0c4zoG",
        "outputId": "0ff6bbdc-3e33-464d-9180-dad247ffbbdc"
      },
      "execution_count": 34,
      "outputs": [
        {
          "output_type": "execute_result",
          "data": {
            "text/plain": [
              "array([1.7542, 2.0177, 2.2812, 2.5448, 2.8083, 3.0719, 3.3354, 3.599 ,\n",
              "       3.8625, 4.126 , 4.3896, 4.6531, 4.9167, 5.1802, 5.4438, 5.7073,\n",
              "       5.9708, 6.2344, 6.4979, 6.7615, 7.025 , 7.2885, 7.5521, 7.8156,\n",
              "       8.0792])"
            ]
          },
          "metadata": {},
          "execution_count": 34
        }
      ]
    },
    {
      "cell_type": "code",
      "source": [
        "MSE = ((y - y_pred)**2).mean() # Calculation of the MSE give the approximation"
      ],
      "metadata": {
        "id": "5ku3Ue2q43cL"
      },
      "execution_count": 35,
      "outputs": []
    },
    {
      "cell_type": "code",
      "source": [
        "MSE"
      ],
      "metadata": {
        "colab": {
          "base_uri": "https://localhost:8080/"
        },
        "id": "mYxkDweM5NT5",
        "outputId": "886087a1-5c14-405b-b021-a65421e213ba"
      },
      "execution_count": 36,
      "outputs": [
        {
          "output_type": "execute_result",
          "data": {
            "text/plain": [
              "10.721953125"
            ]
          },
          "metadata": {},
          "execution_count": 36
        }
      ]
    },
    {
      "cell_type": "code",
      "source": [
        "plt.figure(figsize=(10,6))\n",
        "plt.plot(x, y, 'ro', label='sample data')\n",
        "plt.plot(x, y_pred, lw=3.0, label='linear regression')\n",
        "plt.legend()"
      ],
      "metadata": {
        "colab": {
          "base_uri": "https://localhost:8080/",
          "height": 391
        },
        "id": "Ia5MomA25OxV",
        "outputId": "df47e98d-ac6c-4448-f8bb-554d97d70665"
      },
      "execution_count": 37,
      "outputs": [
        {
          "output_type": "execute_result",
          "data": {
            "text/plain": [
              "<matplotlib.legend.Legend at 0x7facc5e1c1c0>"
            ]
          },
          "metadata": {},
          "execution_count": 37
        },
        {
          "output_type": "display_data",
          "data": {
            "text/plain": [
              "<Figure size 720x432 with 1 Axes>"
            ],
            "image/png": "[encoded data removed]"
          },
          "metadata": {}
        }
      ]
    },
    {
      "cell_type": "code",
      "source": [
        "plt.figure(figsize=(10,6))\n",
        "plt.plot(x, y, 'ro', label='sample data')\n",
        "for degree in [1, 2, 3]:\n",
        "  regression = np.polyfit(x, y, deg=degree) # Regression Step\n",
        "  y_pred = np.polyval(regression, x) # Approximation Step\n",
        "  MSE = ((y - y_pred)**2).mean() # MSE Calculation\n",
        "  print(f'degree = {degree} | MSE = {MSE:.5f}')\n",
        "  plt.plot(x, np.polyval(regression, x), label=f'deg={degree}')\n",
        "plt.legend()"
      ],
      "metadata": {
        "colab": {
          "base_uri": "https://localhost:8080/",
          "height": 445
        },
        "id": "6fzEJGxV5RVW",
        "outputId": "0cff9b4b-a6a2-4572-daee-5b8433734b35"
      },
      "execution_count": 38,
      "outputs": [
        {
          "output_type": "stream",
          "name": "stdout",
          "text": [
            "degree = 1 | MSE = 10.72195\n",
            "degree = 2 | MSE = 2.31258\n",
            "degree = 3 | MSE = 0.00000\n"
          ]
        },
        {
          "output_type": "execute_result",
          "data": {
            "text/plain": [
              "<matplotlib.legend.Legend at 0x7facc5dab1c0>"
            ]
          },
          "metadata": {},
          "execution_count": 38
        },
        {
          "output_type": "display_data",
          "data": {
            "text/plain": [
              "<Figure size 720x432 with 1 Axes>"
            ],
            "image/png": "[encoded data removed]"
          },
          "metadata": {}
        }
      ]
    },
    {
      "cell_type": "markdown",
      "source": [
        "Sample data and OLS regression lines"
      ],
      "metadata": {
        "id": "zrib3UY67f0B"
      }
    },
    {
      "cell_type": "code",
      "source": [
        "regression # Optimal(\"perfect\") parameter values"
      ],
      "metadata": {
        "colab": {
          "base_uri": "https://localhost:8080/"
        },
        "id": "kMj070dL6jCl",
        "outputId": "77333436-55b2-4bff-8842-4cc76295c4ac"
      },
      "execution_count": 39,
      "outputs": [
        {
          "output_type": "execute_result",
          "data": {
            "text/plain": [
              "array([-0.3333,  2.    ,  0.    , -0.    ])"
            ]
          },
          "metadata": {},
          "execution_count": 39
        }
      ]
    },
    {
      "cell_type": "markdown",
      "source": [
        "###**MLPRegressor - DNN (multi-layer perceptron (MLP))**"
      ],
      "metadata": {
        "id": "4dp9cFvZCvr-"
      }
    },
    {
      "cell_type": "code",
      "source": [
        "from sklearn.neural_network import MLPRegressor"
      ],
      "metadata": {
        "id": "LtjYFGrD67kR"
      },
      "execution_count": 40,
      "outputs": []
    },
    {
      "cell_type": "code",
      "source": [
        "# Instantiates the MLPRegressor object\n",
        "model = MLPRegressor(hidden_layer_sizes=3 * [256], learning_rate_init=0.03, max_iter=5000)"
      ],
      "metadata": {
        "id": "VMNTpK-hC9pj"
      },
      "execution_count": 41,
      "outputs": []
    },
    {
      "cell_type": "code",
      "source": [
        "# Implements the fitting or learning step\n",
        "model.fit(x.reshape(-1, 1), y)"
      ],
      "metadata": {
        "colab": {
          "base_uri": "https://localhost:8080/"
        },
        "id": "Qn65Oeu5DLEP",
        "outputId": "e393d5f4-c5f9-404a-d3dc-e4cb63e711ea"
      },
      "execution_count": 42,
      "outputs": [
        {
          "output_type": "execute_result",
          "data": {
            "text/plain": [
              "MLPRegressor(hidden_layer_sizes=[256, 256, 256], learning_rate_init=0.03,\n",
              "             max_iter=5000)"
            ]
          },
          "metadata": {},
          "execution_count": 42
        }
      ]
    },
    {
      "cell_type": "code",
      "source": [
        "# Implements the prediction step\n",
        "y_predict = model.predict(x.reshape(-1, 1))"
      ],
      "metadata": {
        "id": "nUMtiIJFDdcD"
      },
      "execution_count": 43,
      "outputs": []
    },
    {
      "cell_type": "code",
      "source": [
        "MSE = ((y - y_predict)**2).mean()"
      ],
      "metadata": {
        "id": "_dB4I-x4DmuV"
      },
      "execution_count": 44,
      "outputs": []
    },
    {
      "cell_type": "code",
      "source": [
        "MSE"
      ],
      "metadata": {
        "colab": {
          "base_uri": "https://localhost:8080/"
        },
        "id": "WZtSER6_EHuP",
        "outputId": "2c2890f8-6f14-4d57-ee8f-ae0a375afb5e"
      },
      "execution_count": 45,
      "outputs": [
        {
          "output_type": "execute_result",
          "data": {
            "text/plain": [
              "0.002670920244118671"
            ]
          },
          "metadata": {},
          "execution_count": 45
        }
      ]
    },
    {
      "cell_type": "code",
      "source": [
        "plt.figure(figsize=(10,6))\n",
        "plt.plot(x, y, 'ro', label='sample data')\n",
        "plt.plot(x, y_predict, lw=3.0, label='DNN estimation')\n",
        "plt.legend()"
      ],
      "metadata": {
        "colab": {
          "base_uri": "https://localhost:8080/",
          "height": 391
        },
        "id": "omOS78WUEIY0",
        "outputId": "4fabaf92-c517-45a6-f433-0b20613aae3a"
      },
      "execution_count": 46,
      "outputs": [
        {
          "output_type": "execute_result",
          "data": {
            "text/plain": [
              "<matplotlib.legend.Legend at 0x7facc5cca0d0>"
            ]
          },
          "metadata": {},
          "execution_count": 46
        },
        {
          "output_type": "display_data",
          "data": {
            "text/plain": [
              "<Figure size 720x432 with 1 Axes>"
            ],
            "image/png": "[encoded data removed]"
          },
          "metadata": {}
        }
      ]
    },
    {
      "cell_type": "markdown",
      "source": [
        "##**Keras**"
      ],
      "metadata": {
        "id": "xJOjQk7AFF5O"
      }
    },
    {
      "cell_type": "code",
      "source": [
        "import tensorflow as tf\n",
        "tf.random.set_seed(100)"
      ],
      "metadata": {
        "id": "Ul2px4WPEr4T"
      },
      "execution_count": 47,
      "outputs": []
    },
    {
      "cell_type": "code",
      "source": [
        "from keras.layers import Dense\n",
        "from keras.models import Sequential"
      ],
      "metadata": {
        "id": "QDYAugDrG3fa"
      },
      "execution_count": 48,
      "outputs": []
    },
    {
      "cell_type": "code",
      "source": [
        "model = Sequential() # Instantiates the Sequential model object\n",
        "model.add(Dense(256, activation='relu', input_dim=1)) # Adds a densely connected hidden layer with rectified linear unit (ReLU) activation \n",
        "model.add(Dense(1, activation='linear')) # Adds the output layer with linear activation\n",
        "model.compile(loss='mse', optimizer='rmsprop') # Compiles the model for usage"
      ],
      "metadata": {
        "id": "kWA_iIJ6G8sL"
      },
      "execution_count": 49,
      "outputs": []
    },
    {
      "cell_type": "code",
      "source": [
        "((y - y_predict)**2).mean()"
      ],
      "metadata": {
        "colab": {
          "base_uri": "https://localhost:8080/"
        },
        "id": "g2GPLe4cHZFK",
        "outputId": "a95ee097-af91-45d0-8316-0c05102f6a30"
      },
      "execution_count": 50,
      "outputs": [
        {
          "output_type": "execute_result",
          "data": {
            "text/plain": [
              "0.002670920244118671"
            ]
          },
          "metadata": {},
          "execution_count": 50
        }
      ]
    },
    {
      "cell_type": "code",
      "source": [
        "plt.figure(figsize=(10,6))\n",
        "plt.plot(x, y, 'ro', label='sample data')\n",
        "for i in range(1, 6):\n",
        "  model.fit(x, y, epochs=100, verbose=False) # Trains the neural network for a fixed number of epochs\n",
        "  y_predict = model.predict(x) # Impleements the approximation step\n",
        "  MSE = ((y - y_predict.flatten())**2).mean() # Calculates the current MSE\n",
        "  print(f'round = {i} | MSE = {MSE:.5f}')\n",
        "  plt.plot(x, y_predict, '--', label=f'round = {i}') # Plots the current approximation results\n",
        "plt.legend()"
      ],
      "metadata": {
        "colab": {
          "base_uri": "https://localhost:8080/",
          "height": 571
        },
        "id": "R7-XdM1VHd3q",
        "outputId": "99df894f-9e83-4b65-b1d7-9add1780d18f"
      },
      "execution_count": 51,
      "outputs": [
        {
          "output_type": "stream",
          "name": "stdout",
          "text": [
            "1/1 [==============================] - 0s 99ms/step\n",
            "round = 1 | MSE = 3.87256\n",
            "1/1 [==============================] - 0s 15ms/step\n",
            "round = 2 | MSE = 0.92527\n",
            "1/1 [==============================] - 0s 15ms/step\n",
            "round = 3 | MSE = 0.28527\n",
            "1/1 [==============================] - 0s 19ms/step\n",
            "round = 4 | MSE = 0.13192\n",
            "1/1 [==============================] - 0s 17ms/step\n",
            "round = 5 | MSE = 0.09569\n"
          ]
        },
        {
          "output_type": "execute_result",
          "data": {
            "text/plain": [
              "<matplotlib.legend.Legend at 0x7fac6af083d0>"
            ]
          },
          "metadata": {},
          "execution_count": 51
        },
        {
          "output_type": "display_data",
          "data": {
            "text/plain": [
              "<Figure size 720x432 with 1 Axes>"
            ],
            "image/png": "[encoded data removed]"
          },
          "metadata": {}
        }
      ]
    },
    {
      "cell_type": "markdown",
      "source": [
        "The following code down below generates the random sample data set and creates the OLS regression estimation based on a varying number of monomial basis functions. Even for the highest number of monomials in the example, the estimation results are still not too good. The MSE value is accordingly relatively high"
      ],
      "metadata": {
        "id": "LStbhzYTJKed"
      }
    },
    {
      "cell_type": "code",
      "source": [
        "np.random.seed(0)\n",
        "x = np.linspace(-1, 1) #-1 means let np do the work for us, but 1 mean I want 1 column, so -1 let np transform our array to fit the 1 column only\n",
        "y = np.random.random(len(x))*2 - 1"
      ],
      "metadata": {
        "id": "kNjMHFjiITJc"
      },
      "execution_count": 52,
      "outputs": []
    },
    {
      "cell_type": "code",
      "source": [
        "plt.figure(figsize=(10,6))\n",
        "plt.plot(x, y, 'ro', label='sample data')\n",
        "for degree in [1, 5, 9, 11, 13, 15]:\n",
        "  regression = np.polyfit(x, y, deg=degree)\n",
        "  y_predict = np.polyval(regression, x)\n",
        "  MSE = ((y - y_predict)**2).mean()\n",
        "  print(f'degree = {degree:2d} | MSE = {MSE:.5f}')\n",
        "  plt.plot(x, np.polyval(regression, x), label=f'degree = {degree}')\n",
        "plt.legend()"
      ],
      "metadata": {
        "colab": {
          "base_uri": "https://localhost:8080/",
          "height": 499
        },
        "id": "REfIEFhQJsiz",
        "outputId": "f942d32e-e70e-4992-91f1-9b76511aca4a"
      },
      "execution_count": 53,
      "outputs": [
        {
          "output_type": "stream",
          "name": "stdout",
          "text": [
            "degree =  1 | MSE = 0.28153\n",
            "degree =  5 | MSE = 0.27331\n",
            "degree =  9 | MSE = 0.25442\n",
            "degree = 11 | MSE = 0.23458\n",
            "degree = 13 | MSE = 0.22989\n",
            "degree = 15 | MSE = 0.21672\n"
          ]
        },
        {
          "output_type": "execute_result",
          "data": {
            "text/plain": [
              "<matplotlib.legend.Legend at 0x7fac6ad6a5b0>"
            ]
          },
          "metadata": {},
          "execution_count": 53
        },
        {
          "output_type": "display_data",
          "data": {
            "text/plain": [
              "<Figure size 720x432 with 1 Axes>"
            ],
            "image/png": "[encoded data removed]"
          },
          "metadata": {}
        }
      ]
    },
    {
      "cell_type": "markdown",
      "source": [
        "The results of the OLS regression are not too surprising. OLS regression in this case assumes that the approximation can be achieved through an appropriate combination of a finite number of basis functions. Since the sample data set has been generated randomly, the OLS regression does not perform well in this case."
      ],
      "metadata": {
        "id": "y1VSJjxlK7X-"
      }
    },
    {
      "cell_type": "markdown",
      "source": [
        "Let's try neural network. The application is as straightforward as before and yields estimations as shown. While the end result is not perfect, it is obvious that the neural network performs better than the OLS regression in estimating the random label values from the random features values. Given its architecture, however, the neural network has almost 200,000 trainable parameters (weights), which offers relatively high flexibility, particularly when compared to the OLS regression, for which a maximum of 15 + 1 parameters are used"
      ],
      "metadata": {
        "id": "-pGcRGHbLQf1"
      }
    },
    {
      "cell_type": "code",
      "source": [
        "model = Sequential()\n",
        "model.add(Dense(256, activation='relu', input_dim=1))\n",
        "for i in range(3):\n",
        "  model.add(Dense(256, activation='relu')) # Multiple hidden layers are added\n",
        "model.add(Dense(1, activation='linear'))\n",
        "model.compile(loss='mse', optimizer='rmsprop')"
      ],
      "metadata": {
        "id": "NcNGAEWrKYBp"
      },
      "execution_count": 54,
      "outputs": []
    },
    {
      "cell_type": "code",
      "source": [
        "model.summary() # Network architecture and number of trainable parameters are shown"
      ],
      "metadata": {
        "colab": {
          "base_uri": "https://localhost:8080/"
        },
        "id": "Ylyd1nrUMJ6O",
        "outputId": "53771d06-bdc2-4605-dd8b-1b59a6f373ee"
      },
      "execution_count": 55,
      "outputs": [
        {
          "output_type": "stream",
          "name": "stdout",
          "text": [
            "Model: \"sequential_1\"\n",
            "_________________________________________________________________\n",
            " Layer (type)                Output Shape              Param #   \n",
            "=================================================================\n",
            " dense_2 (Dense)             (None, 256)               512       \n",
            "                                                                 \n",
            " dense_3 (Dense)             (None, 256)               65792     \n",
            "                                                                 \n",
            " dense_4 (Dense)             (None, 256)               65792     \n",
            "                                                                 \n",
            " dense_5 (Dense)             (None, 256)               65792     \n",
            "                                                                 \n",
            " dense_6 (Dense)             (None, 1)                 257       \n",
            "                                                                 \n",
            "=================================================================\n",
            "Total params: 198,145\n",
            "Trainable params: 198,145\n",
            "Non-trainable params: 0\n",
            "_________________________________________________________________\n"
          ]
        }
      ]
    },
    {
      "cell_type": "code",
      "source": [
        "%%time\n",
        "plt.figure(figsize=(10,6))\n",
        "plt.plot(x, y, 'ro', label='sample data')\n",
        "for i in range(1,8):\n",
        "  model.fit(x, y, epochs=500, verbose=False)\n",
        "  y_predict = model.predict(x)\n",
        "  MSE = ((y - y_predict.flatten())**2).mean()\n",
        "  print(f'round = {i} | MSE = {MSE:.5f}')\n",
        "  plt.plot(x, y_predict, '--', label=f'round={i}')\n",
        "plt.legend()"
      ],
      "metadata": {
        "colab": {
          "base_uri": "https://localhost:8080/",
          "height": 680
        },
        "id": "z3_zPoBqMQsd",
        "outputId": "d4f0042f-cfb3-4fda-d19d-757805977cf8"
      },
      "execution_count": 56,
      "outputs": [
        {
          "output_type": "stream",
          "name": "stdout",
          "text": [
            "2/2 [==============================] - 0s 5ms/step\n",
            "round = 1 | MSE = 0.13002\n",
            "2/2 [==============================] - 0s 4ms/step\n",
            "round = 2 | MSE = 0.09045\n",
            "2/2 [==============================] - 0s 4ms/step\n",
            "round = 3 | MSE = 0.05891\n",
            "2/2 [==============================] - 0s 6ms/step\n",
            "round = 4 | MSE = 0.04494\n",
            "2/2 [==============================] - 0s 5ms/step\n",
            "round = 5 | MSE = 0.03354\n",
            "2/2 [==============================] - 0s 4ms/step\n",
            "round = 6 | MSE = 0.03068\n",
            "2/2 [==============================] - 0s 6ms/step\n",
            "round = 7 | MSE = 0.00564\n",
            "CPU times: user 37.5 s, sys: 2.32 s, total: 39.8 s\n",
            "Wall time: 27 s\n"
          ]
        },
        {
          "output_type": "execute_result",
          "data": {
            "text/plain": [
              "<matplotlib.legend.Legend at 0x7fac6accf040>"
            ]
          },
          "metadata": {},
          "execution_count": 56
        },
        {
          "output_type": "display_data",
          "data": {
            "text/plain": [
              "<Figure size 720x432 with 1 Axes>"
            ],
            "image/png": "[encoded data removed]"
          },
          "metadata": {}
        }
      ]
    },
    {
      "cell_type": "markdown",
      "source": [
        "##**Classification with Neural Networks**"
      ],
      "metadata": {
        "id": "NFxr485sNSc7"
      }
    },
    {
      "cell_type": "code",
      "source": [
        "f = 5\n",
        "n = 10"
      ],
      "metadata": {
        "id": "BwYc3-1uMxOR"
      },
      "execution_count": 57,
      "outputs": []
    },
    {
      "cell_type": "code",
      "source": [
        "np.random.seed(100)"
      ],
      "metadata": {
        "id": "uxLdXDlNOqJt"
      },
      "execution_count": 58,
      "outputs": []
    },
    {
      "cell_type": "code",
      "source": [
        "x = np.random.randint(0, 2 ,(n, f)) # Creates random features data"
      ],
      "metadata": {
        "id": "1i2x4kUVOrTC"
      },
      "execution_count": 59,
      "outputs": []
    },
    {
      "cell_type": "code",
      "source": [
        "x # Creates random features data"
      ],
      "metadata": {
        "colab": {
          "base_uri": "https://localhost:8080/"
        },
        "id": "knOLZSYFOycF",
        "outputId": "fa2a20ee-d82f-4091-9db5-bdff268c79e8"
      },
      "execution_count": 60,
      "outputs": [
        {
          "output_type": "execute_result",
          "data": {
            "text/plain": [
              "array([[0, 0, 1, 1, 1],\n",
              "       [1, 0, 0, 0, 0],\n",
              "       [0, 1, 0, 0, 0],\n",
              "       [0, 1, 0, 0, 1],\n",
              "       [0, 1, 0, 0, 0],\n",
              "       [1, 1, 1, 0, 0],\n",
              "       [1, 0, 0, 1, 1],\n",
              "       [1, 1, 1, 0, 0],\n",
              "       [1, 1, 1, 1, 1],\n",
              "       [1, 1, 1, 0, 1]])"
            ]
          },
          "metadata": {},
          "execution_count": 60
        }
      ]
    },
    {
      "cell_type": "code",
      "source": [
        "y = np.random.randint(0, 2, n) # Creates random labels data"
      ],
      "metadata": {
        "id": "BvnOvWUOOzIm"
      },
      "execution_count": 61,
      "outputs": []
    },
    {
      "cell_type": "code",
      "source": [
        "y # Creates random labels data"
      ],
      "metadata": {
        "colab": {
          "base_uri": "https://localhost:8080/"
        },
        "id": "GYLm0Ap7O5ih",
        "outputId": "9215e16f-546c-4bb5-aa00-32785eee9ed7"
      },
      "execution_count": 62,
      "outputs": [
        {
          "output_type": "execute_result",
          "data": {
            "text/plain": [
              "array([1, 1, 0, 0, 1, 1, 0, 1, 0, 1])"
            ]
          },
          "metadata": {},
          "execution_count": 62
        }
      ]
    },
    {
      "cell_type": "code",
      "source": [
        "model = Sequential()\n",
        "model.add(Dense(256, activation='relu', input_dim=f))\n",
        "model.add(Dense(1, activation='sigmoid')) # Defines the activation function for the output layer as sigmoid\n",
        "model.compile(loss='binary_crossentropy', optimizer='rmsprop', metrics=['acc']) # Defines the loss function to be binary_crossentropy"
      ],
      "metadata": {
        "id": "8yrLb3AxO6cv"
      },
      "execution_count": 63,
      "outputs": []
    },
    {
      "cell_type": "code",
      "source": [
        "model.fit(x, y, epochs=50, verbose=False)"
      ],
      "metadata": {
        "colab": {
          "base_uri": "https://localhost:8080/"
        },
        "id": "958MecEUPW5x",
        "outputId": "0df69938-cff5-41f7-c273-d581d719206f"
      },
      "execution_count": 64,
      "outputs": [
        {
          "output_type": "execute_result",
          "data": {
            "text/plain": [
              "<keras.callbacks.History at 0x7fac694ec3d0>"
            ]
          },
          "metadata": {},
          "execution_count": 64
        }
      ]
    },
    {
      "cell_type": "code",
      "source": [
        "y_predict = np.where(model.predict(x).flatten() > 0.5, 1, 0) #if probability > 0.5, then = 1; else = 0"
      ],
      "metadata": {
        "colab": {
          "base_uri": "https://localhost:8080/"
        },
        "id": "qzIyjUCTPaWc",
        "outputId": "da05ad32-1874-464d-be83-4e82c2e7920e"
      },
      "execution_count": 65,
      "outputs": [
        {
          "output_type": "stream",
          "name": "stdout",
          "text": [
            "1/1 [==============================] - 0s 45ms/step\n"
          ]
        }
      ]
    },
    {
      "cell_type": "code",
      "source": [
        "y_predict"
      ],
      "metadata": {
        "colab": {
          "base_uri": "https://localhost:8080/"
        },
        "id": "GjrmBaaOPk1P",
        "outputId": "c4a1374e-3c45-445e-ea04-47e8815f1e87"
      },
      "execution_count": 66,
      "outputs": [
        {
          "output_type": "execute_result",
          "data": {
            "text/plain": [
              "array([1, 1, 0, 0, 0, 1, 0, 1, 0, 1])"
            ]
          },
          "metadata": {},
          "execution_count": 66
        }
      ]
    },
    {
      "cell_type": "code",
      "source": [
        "y == y_predict # Compares the predicted values with the labels data"
      ],
      "metadata": {
        "colab": {
          "base_uri": "https://localhost:8080/"
        },
        "id": "ZI_y_b3_PmTS",
        "outputId": "185fa4b6-8700-4cb2-da82-84b7733da921"
      },
      "execution_count": 67,
      "outputs": [
        {
          "output_type": "execute_result",
          "data": {
            "text/plain": [
              "array([ True,  True,  True,  True, False,  True,  True,  True,  True,\n",
              "        True])"
            ]
          },
          "metadata": {},
          "execution_count": 67
        }
      ]
    },
    {
      "cell_type": "code",
      "source": [
        "history = model.fit(x, y, epochs=50, verbose=False) # Plots the loss function and accuracy values for every training step"
      ],
      "metadata": {
        "id": "Icrs4XKgPsAo"
      },
      "execution_count": 68,
      "outputs": []
    },
    {
      "cell_type": "code",
      "source": [
        "hist_df = pd.DataFrame(history.history)  # Plots the loss function and accuracy values for every training step\n",
        "print(hist_df)"
      ],
      "metadata": {
        "colab": {
          "base_uri": "https://localhost:8080/"
        },
        "id": "8bjEQsvPP4Ga",
        "outputId": "fa050779-ebfa-439a-f12d-3bbb5945d408"
      },
      "execution_count": 69,
      "outputs": [
        {
          "output_type": "stream",
          "name": "stdout",
          "text": [
            "        loss  acc\n",
            "0   0.367760  0.9\n",
            "1   0.364037  0.9\n",
            "2   0.360365  0.9\n",
            "3   0.356677  0.9\n",
            "4   0.353069  0.9\n",
            "5   0.349499  0.9\n",
            "6   0.345934  0.9\n",
            "7   0.342457  0.9\n",
            "8   0.338990  0.9\n",
            "9   0.335559  0.9\n",
            "10  0.332186  0.9\n",
            "11  0.328881  0.9\n",
            "12  0.325446  0.9\n",
            "13  0.322122  0.9\n",
            "14  0.318851  0.9\n",
            "15  0.315576  0.9\n",
            "16  0.312323  0.9\n",
            "17  0.309157  0.9\n",
            "18  0.306059  0.9\n",
            "19  0.302989  0.9\n",
            "20  0.299912  0.9\n",
            "21  0.296960  0.9\n",
            "22  0.293956  0.9\n",
            "23  0.291031  0.9\n",
            "24  0.288133  0.9\n",
            "25  0.285349  0.9\n",
            "26  0.282497  0.9\n",
            "27  0.279780  0.9\n",
            "28  0.277070  0.9\n",
            "29  0.274403  0.9\n",
            "30  0.271806  0.9\n",
            "31  0.269225  0.9\n",
            "32  0.266623  0.9\n",
            "33  0.264085  0.9\n",
            "34  0.261591  0.9\n",
            "35  0.259191  0.9\n",
            "36  0.256773  0.9\n",
            "37  0.254389  0.9\n",
            "38  0.252119  0.9\n",
            "39  0.249788  0.9\n",
            "40  0.247522  0.9\n",
            "41  0.245290  0.9\n",
            "42  0.243113  0.9\n",
            "43  0.240959  0.9\n",
            "44  0.238864  0.9\n",
            "45  0.236778  0.9\n",
            "46  0.234747  0.9\n",
            "47  0.232753  0.9\n",
            "48  0.230816  0.9\n",
            "49  0.228863  0.9\n"
          ]
        }
      ]
    },
    {
      "cell_type": "code",
      "source": [
        "!pip install plot_keras_history"
      ],
      "metadata": {
        "colab": {
          "base_uri": "https://localhost:8080/"
        },
        "id": "WQq7wPYlQAnX",
        "outputId": "11557d40-d01e-4aa4-915f-3b5dc1a68dce"
      },
      "execution_count": 70,
      "outputs": [
        {
          "output_type": "stream",
          "name": "stdout",
          "text": [
            "Looking in indexes: https://pypi.org/simple, https://us-python.pkg.dev/colab-wheels/public/simple/\n",
            "Collecting plot_keras_history\n",
            "  Downloading plot_keras_history-1.1.38.tar.gz (11 kB)\n",
            "  Preparing metadata (setup.py) ... \u001b[?25l\u001b[?25hdone\n",
            "Requirement already satisfied: matplotlib in /usr/local/lib/python3.8/dist-packages (from plot_keras_history) (3.2.2)\n",
            "Requirement already satisfied: pandas in /usr/local/lib/python3.8/dist-packages (from plot_keras_history) (1.3.5)\n",
            "Requirement already satisfied: scipy in /usr/local/lib/python3.8/dist-packages (from plot_keras_history) (1.7.3)\n",
            "Collecting support_developer>=1.0.2\n",
            "  Downloading support_developer-1.0.5.tar.gz (4.9 kB)\n",
            "  Preparing metadata (setup.py) ... \u001b[?25l\u001b[?25hdone\n",
            "Collecting sanitize_ml_labels>=1.0.48\n",
            "  Downloading sanitize_ml_labels-1.0.50.tar.gz (322 kB)\n",
            "\u001b[2K     \u001b[90m━━━━━━━━━━━━━━━━━━━━━━━━━━━━━━━━━━━━━━\u001b[0m \u001b[32m322.1/322.1 KB\u001b[0m \u001b[31m19.2 MB/s\u001b[0m eta \u001b[36m0:00:00\u001b[0m\n",
            "\u001b[?25h  Preparing metadata (setup.py) ... \u001b[?25l\u001b[?25hdone\n",
            "Collecting compress_json\n",
            "  Downloading compress_json-1.0.8.tar.gz (4.7 kB)\n",
            "  Preparing metadata (setup.py) ... \u001b[?25l\u001b[?25hdone\n",
            "Requirement already satisfied: kiwisolver>=1.0.1 in /usr/local/lib/python3.8/dist-packages (from matplotlib->plot_keras_history) (1.4.4)\n",
            "Requirement already satisfied: pyparsing!=2.0.4,!=2.1.2,!=2.1.6,>=2.0.1 in /usr/local/lib/python3.8/dist-packages (from matplotlib->plot_keras_history) (3.0.9)\n",
            "Requirement already satisfied: numpy>=1.11 in /usr/local/lib/python3.8/dist-packages (from matplotlib->plot_keras_history) (1.21.6)\n",
            "Requirement already satisfied: cycler>=0.10 in /usr/local/lib/python3.8/dist-packages (from matplotlib->plot_keras_history) (0.11.0)\n",
            "Requirement already satisfied: python-dateutil>=2.1 in /usr/local/lib/python3.8/dist-packages (from matplotlib->plot_keras_history) (2.8.2)\n",
            "Requirement already satisfied: pytz>=2017.3 in /usr/local/lib/python3.8/dist-packages (from pandas->plot_keras_history) (2022.7)\n",
            "Requirement already satisfied: six>=1.5 in /usr/local/lib/python3.8/dist-packages (from python-dateutil>=2.1->matplotlib->plot_keras_history) (1.15.0)\n",
            "Building wheels for collected packages: plot_keras_history, sanitize_ml_labels, support_developer, compress_json\n",
            "  Building wheel for plot_keras_history (setup.py) ... \u001b[?25l\u001b[?25hdone\n",
            "  Created wheel for plot_keras_history: filename=plot_keras_history-1.1.38-py3-none-any.whl size=9472 sha256=58929802485f4b5c8ffcfcc625cad7e23b068c49ef134b6c2854c1a9d0e17c3d\n",
            "  Stored in directory: /root/.cache/pip/wheels/97/a5/76/35ae3e15da1ce4530de8591b0bcd7716f6d6752a4808f01c04\n",
            "  Building wheel for sanitize_ml_labels (setup.py) ... \u001b[?25l\u001b[?25hdone\n",
            "  Created wheel for sanitize_ml_labels: filename=sanitize_ml_labels-1.0.50-py3-none-any.whl size=320514 sha256=d566d12c1fae191d4329e364f4676f4a3c19aba8cbbb6674eb2902d20a041cb0\n",
            "  Stored in directory: /root/.cache/pip/wheels/a3/5f/ba/ddd191edb6c749a63cffabd28714d5600b5b58014daf7434a8\n",
            "  Building wheel for support_developer (setup.py) ... \u001b[?25l\u001b[?25hdone\n",
            "  Created wheel for support_developer: filename=support_developer-1.0.5-py3-none-any.whl size=5650 sha256=e346bfaff3becb2c84eb3ba754040ee53b7a832649399dfac97cebe761c937f2\n",
            "  Stored in directory: /root/.cache/pip/wheels/11/5e/63/51e84640e77a7dc5f1e5f5eb597e8f1bc730a2818ee5c3fc03\n",
            "  Building wheel for compress_json (setup.py) ... \u001b[?25l\u001b[?25hdone\n",
            "  Created wheel for compress_json: filename=compress_json-1.0.8-py3-none-any.whl size=4733 sha256=ce83e7b4ac8ca90399dce470a72e0afc02d845a27d203ca7f447e1e26f26e68d\n",
            "  Stored in directory: /root/.cache/pip/wheels/fe/36/4b/69aaa23fc0ea813dc1f8cca3372bff314abed354cac20a1cb9\n",
            "Successfully built plot_keras_history sanitize_ml_labels support_developer compress_json\n",
            "Installing collected packages: support_developer, compress_json, sanitize_ml_labels, plot_keras_history\n",
            "Successfully installed compress_json-1.0.8 plot_keras_history-1.1.38 sanitize_ml_labels-1.0.50 support_developer-1.0.5\n"
          ]
        }
      ]
    },
    {
      "cell_type": "code",
      "source": [
        "from plot_keras_history import show_history, plot_history\n",
        "show_history(history)"
      ],
      "metadata": {
        "colab": {
          "base_uri": "https://localhost:8080/",
          "height": 548
        },
        "id": "FEqprd22R2Bo",
        "outputId": "76e39ade-641e-495d-b2e8-53ec6d3657bd"
      },
      "execution_count": 71,
      "outputs": [
        {
          "output_type": "display_data",
          "data": {
            "text/plain": [
              "<Figure size 1000x500 with 2 Axes>"
            ],
            "image/png": "[encoded data removed]"
          },
          "metadata": {}
        }
      ]
    },
    {
      "cell_type": "markdown",
      "source": [
        "##**Small Data Set**"
      ],
      "metadata": {
        "id": "KmYz9vmy5Z7e"
      }
    },
    {
      "cell_type": "code",
      "source": [
        "f = 10 \n",
        "n = 250"
      ],
      "metadata": {
        "id": "q9oY3yfeSdua"
      },
      "execution_count": 72,
      "outputs": []
    },
    {
      "cell_type": "code",
      "source": [
        "np.random.seed(100)"
      ],
      "metadata": {
        "id": "cLMEVaBK5UuG"
      },
      "execution_count": 73,
      "outputs": []
    },
    {
      "cell_type": "code",
      "source": [
        "x = np.random.randint(0, 2, (n,f)) # Features data"
      ],
      "metadata": {
        "id": "rxclyhGC5c-V"
      },
      "execution_count": 74,
      "outputs": []
    },
    {
      "cell_type": "code",
      "source": [
        "x[:4] # all rows, 4 columns"
      ],
      "metadata": {
        "colab": {
          "base_uri": "https://localhost:8080/"
        },
        "id": "zp5QjnH-5g-6",
        "outputId": "f543963a-4869-4bb3-b54d-ff30bb36eb0f"
      },
      "execution_count": 75,
      "outputs": [
        {
          "output_type": "execute_result",
          "data": {
            "text/plain": [
              "array([[0, 0, 1, 1, 1, 1, 0, 0, 0, 0],\n",
              "       [0, 1, 0, 0, 0, 0, 1, 0, 0, 1],\n",
              "       [0, 1, 0, 0, 0, 1, 1, 1, 0, 0],\n",
              "       [1, 0, 0, 1, 1, 1, 1, 1, 0, 0]])"
            ]
          },
          "metadata": {},
          "execution_count": 75
        }
      ]
    },
    {
      "cell_type": "code",
      "source": [
        "y = np.random.randint(0, 2, n) # Labels data (250 rows 1 column)"
      ],
      "metadata": {
        "id": "ObHGZS975isl"
      },
      "execution_count": 76,
      "outputs": []
    },
    {
      "cell_type": "code",
      "source": [
        "y[:4]"
      ],
      "metadata": {
        "colab": {
          "base_uri": "https://localhost:8080/"
        },
        "id": "MiVi_eD26yxv",
        "outputId": "40e88124-7ccc-4763-89b6-cdf4d2f41fce"
      },
      "execution_count": 78,
      "outputs": [
        {
          "output_type": "execute_result",
          "data": {
            "text/plain": [
              "array([0, 1, 0, 0])"
            ]
          },
          "metadata": {},
          "execution_count": 78
        }
      ]
    },
    {
      "cell_type": "code",
      "source": [
        "2**f"
      ],
      "metadata": {
        "colab": {
          "base_uri": "https://localhost:8080/"
        },
        "id": "uFZHNHhe7BWU",
        "outputId": "1dc87807-c66d-4c45-b871-6cfbe85c977d"
      },
      "execution_count": 79,
      "outputs": [
        {
          "output_type": "execute_result",
          "data": {
            "text/plain": [
              "1024"
            ]
          },
          "metadata": {},
          "execution_count": 79
        }
      ]
    },
    {
      "cell_type": "code",
      "source": [
        "fcols = [f'f{_}' for _ in range(f)] # Defines column names for the features data"
      ],
      "metadata": {
        "id": "-wkoIADD7JP_"
      },
      "execution_count": 80,
      "outputs": []
    },
    {
      "cell_type": "code",
      "source": [
        "fcols"
      ],
      "metadata": {
        "colab": {
          "base_uri": "https://localhost:8080/"
        },
        "id": "WfgWM_j37Ues",
        "outputId": "4ee0c9e2-36f9-4ae7-b329-c66dceec9868"
      },
      "execution_count": 81,
      "outputs": [
        {
          "output_type": "execute_result",
          "data": {
            "text/plain": [
              "['f0', 'f1', 'f2', 'f3', 'f4', 'f5', 'f6', 'f7', 'f8', 'f9']"
            ]
          },
          "metadata": {},
          "execution_count": 81
        }
      ]
    },
    {
      "cell_type": "code",
      "source": [
        "data = pd.DataFrame(x, columns=fcols) # Puts the features data into a DataFrame object"
      ],
      "metadata": {
        "id": "SXAkukMI7WKr"
      },
      "execution_count": 82,
      "outputs": []
    },
    {
      "cell_type": "code",
      "source": [
        "data['l'] = y # Puts the labels data into the same DataFrame object"
      ],
      "metadata": {
        "id": "IcOBk8477fwk"
      },
      "execution_count": 83,
      "outputs": []
    },
    {
      "cell_type": "code",
      "source": [
        "data.info() # Shows the meta information for the data set"
      ],
      "metadata": {
        "colab": {
          "base_uri": "https://localhost:8080/"
        },
        "id": "Ctoo4Kpd7iqL",
        "outputId": "d5d150c6-3fa1-4f0d-f9b3-53b9cc6d7c61"
      },
      "execution_count": 84,
      "outputs": [
        {
          "output_type": "stream",
          "name": "stdout",
          "text": [
            "<class 'pandas.core.frame.DataFrame'>\n",
            "RangeIndex: 250 entries, 0 to 249\n",
            "Data columns (total 11 columns):\n",
            " #   Column  Non-Null Count  Dtype\n",
            "---  ------  --------------  -----\n",
            " 0   f0      250 non-null    int64\n",
            " 1   f1      250 non-null    int64\n",
            " 2   f2      250 non-null    int64\n",
            " 3   f3      250 non-null    int64\n",
            " 4   f4      250 non-null    int64\n",
            " 5   f5      250 non-null    int64\n",
            " 6   f6      250 non-null    int64\n",
            " 7   f7      250 non-null    int64\n",
            " 8   f8      250 non-null    int64\n",
            " 9   f9      250 non-null    int64\n",
            " 10  l       250 non-null    int64\n",
            "dtypes: int64(11)\n",
            "memory usage: 21.6 KB\n"
          ]
        }
      ]
    },
    {
      "cell_type": "markdown",
      "source": [
        "Two major problems can be identified given the results from the executing the following Python code. First, not all patterns are in the sample data set. Second, the sample size is much too small per observed pattern. Even without digger deeper, it is clear that no classification algorithm can really learn about all the possible patterns in a meaningful way"
      ],
      "metadata": {
        "id": "yVmEZe-O7_dM"
      }
    },
    {
      "cell_type": "code",
      "source": [
        "grouped = data.groupby(list(data.columns)) # Groups the data along all columns"
      ],
      "metadata": {
        "id": "rkxjhw7f73dh"
      },
      "execution_count": 85,
      "outputs": []
    },
    {
      "cell_type": "code",
      "source": [
        "freq = grouped['l'].size().unstack(fill_value=0) # Unstacks the grouped data for the labels column"
      ],
      "metadata": {
        "id": "-XM4nAml8WPt"
      },
      "execution_count": 86,
      "outputs": []
    },
    {
      "cell_type": "code",
      "source": [
        "freq['sum'] = freq[0] + freq[1] # Adds up the frequency for a 0 and 1"
      ],
      "metadata": {
        "id": "gowADU7Z8enn"
      },
      "execution_count": 87,
      "outputs": []
    },
    {
      "cell_type": "code",
      "source": [
        "freq.head(10) # Shows the frequencies for a 0 and a 1 given a certain pattern"
      ],
      "metadata": {
        "colab": {
          "base_uri": "https://localhost:8080/",
          "height": 394
        },
        "id": "-JbsmXzY8lvU",
        "outputId": "29bd1cf5-10ea-49ea-f0a3-74fc9b986a42"
      },
      "execution_count": 88,
      "outputs": [
        {
          "output_type": "execute_result",
          "data": {
            "text/plain": [
              "l                              0  1  sum\n",
              "f0 f1 f2 f3 f4 f5 f6 f7 f8 f9           \n",
              "0  0  0  0  0  0  0  1  1  1   0  1    1\n",
              "                  1  0  1  0   1  1    2\n",
              "                           1   0  1    1\n",
              "               1  0  0  0  0   1  0    1\n",
              "                           1   0  1    1\n",
              "                     1  1  1   0  1    1\n",
              "                  1  0  0  0   0  1    1\n",
              "                        1  0   0  1    1\n",
              "            1  0  0  0  1  1   1  0    1\n",
              "                  1  1  0  0   1  0    1"
            ],
            "text/html": [
              "\n",
              "  <div id=\"df-44ba36b6-5afb-4de9-81b2-97b425179c62\">\n",
              "    <div class=\"colab-df-container\">\n",
              "      <div>\n",
              "<style scoped>\n",
              "    .dataframe tbody tr th:only-of-type {\n",
              "        vertical-align: middle;\n",
              "    }\n",
              "\n",
              "    .dataframe tbody tr th {\n",
              "        vertical-align: top;\n",
              "    }\n",
              "\n",
              "    .dataframe thead th {\n",
              "        text-align: right;\n",
              "    }\n",
              "</style>\n",
              "<table border=\"1\" class=\"dataframe\">\n",
              "  <thead>\n",
              "    <tr style=\"text-align: right;\">\n",
              "      <th></th>\n",
              "      <th></th>\n",
              "      <th></th>\n",
              "      <th></th>\n",
              "      <th></th>\n",
              "      <th></th>\n",
              "      <th></th>\n",
              "      <th></th>\n",
              "      <th></th>\n",
              "      <th>l</th>\n",
              "      <th>0</th>\n",
              "      <th>1</th>\n",
              "      <th>sum</th>\n",
              "    </tr>\n",
              "    <tr>\n",
              "      <th>f0</th>\n",
              "      <th>f1</th>\n",
              "      <th>f2</th>\n",
              "      <th>f3</th>\n",
              "      <th>f4</th>\n",
              "      <th>f5</th>\n",
              "      <th>f6</th>\n",
              "      <th>f7</th>\n",
              "      <th>f8</th>\n",
              "      <th>f9</th>\n",
              "      <th></th>\n",
              "      <th></th>\n",
              "      <th></th>\n",
              "    </tr>\n",
              "  </thead>\n",
              "  <tbody>\n",
              "    <tr>\n",
              "      <th rowspan=\"10\" valign=\"top\">0</th>\n",
              "      <th rowspan=\"10\" valign=\"top\">0</th>\n",
              "      <th rowspan=\"10\" valign=\"top\">0</th>\n",
              "      <th rowspan=\"10\" valign=\"top\">0</th>\n",
              "      <th rowspan=\"8\" valign=\"top\">0</th>\n",
              "      <th rowspan=\"3\" valign=\"top\">0</th>\n",
              "      <th>0</th>\n",
              "      <th>1</th>\n",
              "      <th>1</th>\n",
              "      <th>1</th>\n",
              "      <td>0</td>\n",
              "      <td>1</td>\n",
              "      <td>1</td>\n",
              "    </tr>\n",
              "    <tr>\n",
              "      <th rowspan=\"2\" valign=\"top\">1</th>\n",
              "      <th rowspan=\"2\" valign=\"top\">0</th>\n",
              "      <th rowspan=\"2\" valign=\"top\">1</th>\n",
              "      <th>0</th>\n",
              "      <td>1</td>\n",
              "      <td>1</td>\n",
              "      <td>2</td>\n",
              "    </tr>\n",
              "    <tr>\n",
              "      <th>1</th>\n",
              "      <td>0</td>\n",
              "      <td>1</td>\n",
              "      <td>1</td>\n",
              "    </tr>\n",
              "    <tr>\n",
              "      <th rowspan=\"5\" valign=\"top\">1</th>\n",
              "      <th rowspan=\"3\" valign=\"top\">0</th>\n",
              "      <th rowspan=\"2\" valign=\"top\">0</th>\n",
              "      <th rowspan=\"2\" valign=\"top\">0</th>\n",
              "      <th>0</th>\n",
              "      <td>1</td>\n",
              "      <td>0</td>\n",
              "      <td>1</td>\n",
              "    </tr>\n",
              "    <tr>\n",
              "      <th>1</th>\n",
              "      <td>0</td>\n",
              "      <td>1</td>\n",
              "      <td>1</td>\n",
              "    </tr>\n",
              "    <tr>\n",
              "      <th>1</th>\n",
              "      <th>1</th>\n",
              "      <th>1</th>\n",
              "      <td>0</td>\n",
              "      <td>1</td>\n",
              "      <td>1</td>\n",
              "    </tr>\n",
              "    <tr>\n",
              "      <th rowspan=\"2\" valign=\"top\">1</th>\n",
              "      <th rowspan=\"2\" valign=\"top\">0</th>\n",
              "      <th>0</th>\n",
              "      <th>0</th>\n",
              "      <td>0</td>\n",
              "      <td>1</td>\n",
              "      <td>1</td>\n",
              "    </tr>\n",
              "    <tr>\n",
              "      <th>1</th>\n",
              "      <th>0</th>\n",
              "      <td>0</td>\n",
              "      <td>1</td>\n",
              "      <td>1</td>\n",
              "    </tr>\n",
              "    <tr>\n",
              "      <th rowspan=\"2\" valign=\"top\">1</th>\n",
              "      <th rowspan=\"2\" valign=\"top\">0</th>\n",
              "      <th>0</th>\n",
              "      <th>0</th>\n",
              "      <th>1</th>\n",
              "      <th>1</th>\n",
              "      <td>1</td>\n",
              "      <td>0</td>\n",
              "      <td>1</td>\n",
              "    </tr>\n",
              "    <tr>\n",
              "      <th>1</th>\n",
              "      <th>1</th>\n",
              "      <th>0</th>\n",
              "      <th>0</th>\n",
              "      <td>1</td>\n",
              "      <td>0</td>\n",
              "      <td>1</td>\n",
              "    </tr>\n",
              "  </tbody>\n",
              "</table>\n",
              "</div>\n",
              "      <button class=\"colab-df-convert\" onclick=\"convertToInteractive('df-44ba36b6-5afb-4de9-81b2-97b425179c62')\"\n",
              "              title=\"Convert this dataframe to an interactive table.\"\n",
              "              style=\"display:none;\">\n",
              "        \n",
              "  <svg xmlns=\"http://www.w3.org/2000/svg\" height=\"24px\"viewBox=\"0 0 24 24\"\n",
              "       width=\"24px\">\n",
              "    <path d=\"M0 0h24v24H0V0z\" fill=\"none\"/>\n",
              "    <path d=\"M18.56 5.44l.94 2.06.94-2.06 2.06-.94-2.06-.94-.94-2.06-.94 2.06-2.06.94zm-11 1L8.5 8.5l.94-2.06 2.06-.94-2.06-.94L8.5 2.5l-.94 2.06-2.06.94zm10 10l.94 2.06.94-2.06 2.06-.94-2.06-.94-.94-2.06-.94 2.06-2.06.94z\"/><path d=\"M17.41 7.96l-1.37-1.37c-.4-.4-.92-.59-1.43-.59-.52 0-1.04.2-1.43.59L10.3 9.45l-7.72 7.72c-.78.78-.78 2.05 0 2.83L4 21.41c.39.39.9.59 1.41.59.51 0 1.02-.2 1.41-.59l7.78-7.78 2.81-2.81c.8-.78.8-2.07 0-2.86zM5.41 20L4 18.59l7.72-7.72 1.47 1.35L5.41 20z\"/>\n",
              "  </svg>\n",
              "      </button>\n",
              "      \n",
              "  <style>\n",
              "    .colab-df-container {\n",
              "      display:flex;\n",
              "      flex-wrap:wrap;\n",
              "      gap: 12px;\n",
              "    }\n",
              "\n",
              "    .colab-df-convert {\n",
              "      background-color: #E8F0FE;\n",
              "      border: none;\n",
              "      border-radius: 50%;\n",
              "      cursor: pointer;\n",
              "      display: none;\n",
              "      fill: #1967D2;\n",
              "      height: 32px;\n",
              "      padding: 0 0 0 0;\n",
              "      width: 32px;\n",
              "    }\n",
              "\n",
              "    .colab-df-convert:hover {\n",
              "      background-color: #E2EBFA;\n",
              "      box-shadow: 0px 1px 2px rgba(60, 64, 67, 0.3), 0px 1px 3px 1px rgba(60, 64, 67, 0.15);\n",
              "      fill: #174EA6;\n",
              "    }\n",
              "\n",
              "    [theme=dark] .colab-df-convert {\n",
              "      background-color: #3B4455;\n",
              "      fill: #D2E3FC;\n",
              "    }\n",
              "\n",
              "    [theme=dark] .colab-df-convert:hover {\n",
              "      background-color: #434B5C;\n",
              "      box-shadow: 0px 1px 3px 1px rgba(0, 0, 0, 0.15);\n",
              "      filter: drop-shadow(0px 1px 2px rgba(0, 0, 0, 0.3));\n",
              "      fill: #FFFFFF;\n",
              "    }\n",
              "  </style>\n",
              "\n",
              "      <script>\n",
              "        const buttonEl =\n",
              "          document.querySelector('#df-44ba36b6-5afb-4de9-81b2-97b425179c62 button.colab-df-convert');\n",
              "        buttonEl.style.display =\n",
              "          google.colab.kernel.accessAllowed ? 'block' : 'none';\n",
              "\n",
              "        async function convertToInteractive(key) {\n",
              "          const element = document.querySelector('#df-44ba36b6-5afb-4de9-81b2-97b425179c62');\n",
              "          const dataTable =\n",
              "            await google.colab.kernel.invokeFunction('convertToInteractive',\n",
              "                                                     [key], {});\n",
              "          if (!dataTable) return;\n",
              "\n",
              "          const docLinkHtml = 'Like what you see? Visit the ' +\n",
              "            '<a target=\"_blank\" href=https://colab.research.google.com/notebooks/data_table.ipynb>data table notebook</a>'\n",
              "            + ' to learn more about interactive tables.';\n",
              "          element.innerHTML = '';\n",
              "          dataTable['output_type'] = 'display_data';\n",
              "          await google.colab.output.renderOutput(dataTable, element);\n",
              "          const docLink = document.createElement('div');\n",
              "          docLink.innerHTML = docLinkHtml;\n",
              "          element.appendChild(docLink);\n",
              "        }\n",
              "      </script>\n",
              "    </div>\n",
              "  </div>\n",
              "  "
            ]
          },
          "metadata": {},
          "execution_count": 88
        }
      ]
    },
    {
      "cell_type": "code",
      "source": [
        "freq['sum'].describe().astype(int) # Provides statistics for the sum of the frequencies"
      ],
      "metadata": {
        "colab": {
          "base_uri": "https://localhost:8080/"
        },
        "id": "VduJ3CHw8ovK",
        "outputId": "ffbab7df-f094-4bd1-a804-c66ccb72804f"
      },
      "execution_count": 89,
      "outputs": [
        {
          "output_type": "execute_result",
          "data": {
            "text/plain": [
              "count    227\n",
              "mean       1\n",
              "std        0\n",
              "min        1\n",
              "25%        1\n",
              "50%        1\n",
              "75%        1\n",
              "max        2\n",
              "Name: sum, dtype: int64"
            ]
          },
          "metadata": {},
          "execution_count": 89
        }
      ]
    },
    {
      "cell_type": "code",
      "source": [
        "from sklearn.neural_network import MLPClassifier\n",
        "from sklearn.metrics import accuracy_score"
      ],
      "metadata": {
        "id": "4i3W1st39n0V"
      },
      "execution_count": 91,
      "outputs": []
    },
    {
      "cell_type": "code",
      "source": [
        "model = MLPClassifier(hidden_layer_sizes=[128,128,128], max_iter=1000, random_state=100)"
      ],
      "metadata": {
        "id": "Weo6qDDH-IP6"
      },
      "execution_count": 92,
      "outputs": []
    },
    {
      "cell_type": "code",
      "source": [
        "model.fit(data[fcols], data['l'])"
      ],
      "metadata": {
        "colab": {
          "base_uri": "https://localhost:8080/"
        },
        "id": "RFkgpLBH-RXx",
        "outputId": "76ba1b2d-cfa5-4fed-c42a-c12459b080f2"
      },
      "execution_count": 93,
      "outputs": [
        {
          "output_type": "execute_result",
          "data": {
            "text/plain": [
              "MLPClassifier(hidden_layer_sizes=[128, 128, 128], max_iter=1000,\n",
              "              random_state=100)"
            ]
          },
          "metadata": {},
          "execution_count": 93
        }
      ]
    },
    {
      "cell_type": "code",
      "source": [
        "accuracy_score(data['l'], model.predict(data[fcols]))"
      ],
      "metadata": {
        "colab": {
          "base_uri": "https://localhost:8080/"
        },
        "id": "s5NTa8DL-VBk",
        "outputId": "4b836772-9a48-464d-9e0f-6a837a98a95d"
      },
      "execution_count": 95,
      "outputs": [
        {
          "output_type": "execute_result",
          "data": {
            "text/plain": [
              "0.952"
            ]
          },
          "metadata": {},
          "execution_count": 95
        }
      ]
    },
    {
      "cell_type": "code",
      "source": [
        "split = int(len(data) * 0.7) # Splits the data into train adn test data sub-sets"
      ],
      "metadata": {
        "id": "mfklsA1x-Zyr"
      },
      "execution_count": 96,
      "outputs": []
    },
    {
      "cell_type": "code",
      "source": [
        "# Splits the data into train adn test data sub-sets\n",
        "train = data[:split]\n",
        "test = data[split:]"
      ],
      "metadata": {
        "id": "dIdEtwHH-kWu"
      },
      "execution_count": 97,
      "outputs": []
    },
    {
      "cell_type": "code",
      "source": [
        "model.fit(train[fcols], train['l']) # Trains the model on the training data set only"
      ],
      "metadata": {
        "colab": {
          "base_uri": "https://localhost:8080/"
        },
        "id": "SgYwkgvs-xLn",
        "outputId": "ab914a64-b1d5-4fff-b47d-b95be68a5bac"
      },
      "execution_count": 98,
      "outputs": [
        {
          "output_type": "execute_result",
          "data": {
            "text/plain": [
              "MLPClassifier(hidden_layer_sizes=[128, 128, 128], max_iter=1000,\n",
              "              random_state=100)"
            ]
          },
          "metadata": {},
          "execution_count": 98
        }
      ]
    },
    {
      "cell_type": "code",
      "source": [
        "accuracy_score(train['l'], model.predict(train[fcols])) # Reports the accuracy in-sample (training data set)"
      ],
      "metadata": {
        "colab": {
          "base_uri": "https://localhost:8080/"
        },
        "id": "W-0vVkGf-296",
        "outputId": "ea0d463a-ce67-4548-869d-a25a9d130d6d"
      },
      "execution_count": 99,
      "outputs": [
        {
          "output_type": "execute_result",
          "data": {
            "text/plain": [
              "0.9714285714285714"
            ]
          },
          "metadata": {},
          "execution_count": 99
        }
      ]
    },
    {
      "cell_type": "code",
      "source": [
        "accuracy_score(test['l'], model.predict(test[fcols])) # Reports the accuracy out-of-sample (test data set)"
      ],
      "metadata": {
        "colab": {
          "base_uri": "https://localhost:8080/"
        },
        "id": "8SFd14rr_AL7",
        "outputId": "cea54973-dffe-44a3-f7bb-f85971df0853"
      },
      "execution_count": 101,
      "outputs": [
        {
          "output_type": "execute_result",
          "data": {
            "text/plain": [
              "0.38666666666666666"
            ]
          },
          "metadata": {},
          "execution_count": 101
        }
      ]
    },
    {
      "cell_type": "markdown",
      "source": [
        "The Neural network, trained on a small data set, only learns wrong relationships due to the identified two major problem areas. The problems are not really relevant in the context of learning relationships in-sample. To the contrary, the smaller a data set is, the more easily in-sample relationships can be learned in general. However, the problem areas are highly relevant when using the trained neural network to generate predictions out-of-sample."
      ],
      "metadata": {
        "id": "ag69BWUH_T4E"
      }
    },
    {
      "cell_type": "markdown",
      "source": [
        "##**Larger Data Set**"
      ],
      "metadata": {
        "id": "ji12j2aE_q6V"
      }
    },
    {
      "cell_type": "code",
      "source": [
        "factor = 50"
      ],
      "metadata": {
        "id": "_DZejnI9_EzB"
      },
      "execution_count": 102,
      "outputs": []
    },
    {
      "cell_type": "code",
      "source": [
        "big = pd.DataFrame(np.random.randint(0,2, (factor * n, f)), columns=fcols)"
      ],
      "metadata": {
        "id": "U09dzzcjDi86"
      },
      "execution_count": 103,
      "outputs": []
    },
    {
      "cell_type": "code",
      "source": [
        "big['l'] = np.random.randint(0, 2, factor * n)"
      ],
      "metadata": {
        "id": "gsNZ9__oDo9O"
      },
      "execution_count": 104,
      "outputs": []
    },
    {
      "cell_type": "code",
      "source": [
        "train = big[:split]\n",
        "test = big[split:]"
      ],
      "metadata": {
        "id": "QQ_8JU15DsNq"
      },
      "execution_count": 105,
      "outputs": []
    },
    {
      "cell_type": "code",
      "source": [
        "model.fit(train[fcols], train['l'])"
      ],
      "metadata": {
        "colab": {
          "base_uri": "https://localhost:8080/"
        },
        "id": "viQtxx-vDv9O",
        "outputId": "6c5db299-32e2-4385-98ab-733766c46aab"
      },
      "execution_count": 106,
      "outputs": [
        {
          "output_type": "execute_result",
          "data": {
            "text/plain": [
              "MLPClassifier(hidden_layer_sizes=[128, 128, 128], max_iter=1000,\n",
              "              random_state=100)"
            ]
          },
          "metadata": {},
          "execution_count": 106
        }
      ]
    },
    {
      "cell_type": "code",
      "source": [
        "accuracy_score(train['l'], model.predict(train[fcols])) # Prediction accuracy in-sample (training data set)"
      ],
      "metadata": {
        "colab": {
          "base_uri": "https://localhost:8080/"
        },
        "id": "a0JmyRCDDylz",
        "outputId": "a21051eb-8fd3-45c2-94f5-a4ee38b741f8"
      },
      "execution_count": 107,
      "outputs": [
        {
          "output_type": "execute_result",
          "data": {
            "text/plain": [
              "0.9657142857142857"
            ]
          },
          "metadata": {},
          "execution_count": 107
        }
      ]
    },
    {
      "cell_type": "code",
      "source": [
        "accuracy_score(test['l'], model.predict(test[fcols])) # Prediction accuracy out-of-sample (test data set)"
      ],
      "metadata": {
        "colab": {
          "base_uri": "https://localhost:8080/"
        },
        "id": "DGZ-XxHCD2ou",
        "outputId": "4cd7de94-2f5a-4539-83e7-7718545d0b1d"
      },
      "execution_count": 108,
      "outputs": [
        {
          "output_type": "execute_result",
          "data": {
            "text/plain": [
              "0.5043407707910751"
            ]
          },
          "metadata": {},
          "execution_count": 108
        }
      ]
    },
    {
      "cell_type": "markdown",
      "source": [
        "A quick analysis of the available data, as shown next, explains the increase in the prediction accuracy. First, all possible patterns are now represented in the data set. Second, all patterns have an average frequency of above 10 in the data set. In other words, the neural network sees basically all the patterns multiple times. This allows the neural network to \"learn\" that both labels 0 and 1 are equally likely for all possible patterns."
      ],
      "metadata": {
        "id": "zsRYR3_QEReH"
      }
    },
    {
      "cell_type": "code",
      "source": [
        "grouped = big.groupby(list(data.columns))"
      ],
      "metadata": {
        "id": "lwhIY10_EAnc"
      },
      "execution_count": 110,
      "outputs": []
    },
    {
      "cell_type": "code",
      "source": [
        "freq = grouped['l'].size().unstack(fill_value=0)"
      ],
      "metadata": {
        "id": "Gpdg1V7pEqfV"
      },
      "execution_count": 111,
      "outputs": []
    },
    {
      "cell_type": "code",
      "source": [
        "freq['sum'] = freq[0] + freq[1] # Adds the frequency for the 0 and 1 values"
      ],
      "metadata": {
        "id": "lHRXJ2TbEwCV"
      },
      "execution_count": 112,
      "outputs": []
    },
    {
      "cell_type": "code",
      "source": [
        "freq.head(6)"
      ],
      "metadata": {
        "colab": {
          "base_uri": "https://localhost:8080/",
          "height": 269
        },
        "id": "JdaBuqtCEyZr",
        "outputId": "f4ea48f6-8585-4f6f-8876-59c3ec2e3227"
      },
      "execution_count": 113,
      "outputs": [
        {
          "output_type": "execute_result",
          "data": {
            "text/plain": [
              "l                               0  1  sum\n",
              "f0 f1 f2 f3 f4 f5 f6 f7 f8 f9            \n",
              "0  0  0  0  0  0  0  0  0  0   10  9   19\n",
              "                           1    5  4    9\n",
              "                        1  0    2  5    7\n",
              "                           1    6  6   12\n",
              "                     1  0  0    9  8   17\n",
              "                           1    7  4   11"
            ],
            "text/html": [
              "\n",
              "  <div id=\"df-c2ccfb3c-aa1e-4aae-ae82-7dd24e86d57a\">\n",
              "    <div class=\"colab-df-container\">\n",
              "      <div>\n",
              "<style scoped>\n",
              "    .dataframe tbody tr th:only-of-type {\n",
              "        vertical-align: middle;\n",
              "    }\n",
              "\n",
              "    .dataframe tbody tr th {\n",
              "        vertical-align: top;\n",
              "    }\n",
              "\n",
              "    .dataframe thead th {\n",
              "        text-align: right;\n",
              "    }\n",
              "</style>\n",
              "<table border=\"1\" class=\"dataframe\">\n",
              "  <thead>\n",
              "    <tr style=\"text-align: right;\">\n",
              "      <th></th>\n",
              "      <th></th>\n",
              "      <th></th>\n",
              "      <th></th>\n",
              "      <th></th>\n",
              "      <th></th>\n",
              "      <th></th>\n",
              "      <th></th>\n",
              "      <th></th>\n",
              "      <th>l</th>\n",
              "      <th>0</th>\n",
              "      <th>1</th>\n",
              "      <th>sum</th>\n",
              "    </tr>\n",
              "    <tr>\n",
              "      <th>f0</th>\n",
              "      <th>f1</th>\n",
              "      <th>f2</th>\n",
              "      <th>f3</th>\n",
              "      <th>f4</th>\n",
              "      <th>f5</th>\n",
              "      <th>f6</th>\n",
              "      <th>f7</th>\n",
              "      <th>f8</th>\n",
              "      <th>f9</th>\n",
              "      <th></th>\n",
              "      <th></th>\n",
              "      <th></th>\n",
              "    </tr>\n",
              "  </thead>\n",
              "  <tbody>\n",
              "    <tr>\n",
              "      <th rowspan=\"6\" valign=\"top\">0</th>\n",
              "      <th rowspan=\"6\" valign=\"top\">0</th>\n",
              "      <th rowspan=\"6\" valign=\"top\">0</th>\n",
              "      <th rowspan=\"6\" valign=\"top\">0</th>\n",
              "      <th rowspan=\"6\" valign=\"top\">0</th>\n",
              "      <th rowspan=\"6\" valign=\"top\">0</th>\n",
              "      <th rowspan=\"6\" valign=\"top\">0</th>\n",
              "      <th rowspan=\"4\" valign=\"top\">0</th>\n",
              "      <th rowspan=\"2\" valign=\"top\">0</th>\n",
              "      <th>0</th>\n",
              "      <td>10</td>\n",
              "      <td>9</td>\n",
              "      <td>19</td>\n",
              "    </tr>\n",
              "    <tr>\n",
              "      <th>1</th>\n",
              "      <td>5</td>\n",
              "      <td>4</td>\n",
              "      <td>9</td>\n",
              "    </tr>\n",
              "    <tr>\n",
              "      <th rowspan=\"2\" valign=\"top\">1</th>\n",
              "      <th>0</th>\n",
              "      <td>2</td>\n",
              "      <td>5</td>\n",
              "      <td>7</td>\n",
              "    </tr>\n",
              "    <tr>\n",
              "      <th>1</th>\n",
              "      <td>6</td>\n",
              "      <td>6</td>\n",
              "      <td>12</td>\n",
              "    </tr>\n",
              "    <tr>\n",
              "      <th rowspan=\"2\" valign=\"top\">1</th>\n",
              "      <th rowspan=\"2\" valign=\"top\">0</th>\n",
              "      <th>0</th>\n",
              "      <td>9</td>\n",
              "      <td>8</td>\n",
              "      <td>17</td>\n",
              "    </tr>\n",
              "    <tr>\n",
              "      <th>1</th>\n",
              "      <td>7</td>\n",
              "      <td>4</td>\n",
              "      <td>11</td>\n",
              "    </tr>\n",
              "  </tbody>\n",
              "</table>\n",
              "</div>\n",
              "      <button class=\"colab-df-convert\" onclick=\"convertToInteractive('df-c2ccfb3c-aa1e-4aae-ae82-7dd24e86d57a')\"\n",
              "              title=\"Convert this dataframe to an interactive table.\"\n",
              "              style=\"display:none;\">\n",
              "        \n",
              "  <svg xmlns=\"http://www.w3.org/2000/svg\" height=\"24px\"viewBox=\"0 0 24 24\"\n",
              "       width=\"24px\">\n",
              "    <path d=\"M0 0h24v24H0V0z\" fill=\"none\"/>\n",
              "    <path d=\"M18.56 5.44l.94 2.06.94-2.06 2.06-.94-2.06-.94-.94-2.06-.94 2.06-2.06.94zm-11 1L8.5 8.5l.94-2.06 2.06-.94-2.06-.94L8.5 2.5l-.94 2.06-2.06.94zm10 10l.94 2.06.94-2.06 2.06-.94-2.06-.94-.94-2.06-.94 2.06-2.06.94z\"/><path d=\"M17.41 7.96l-1.37-1.37c-.4-.4-.92-.59-1.43-.59-.52 0-1.04.2-1.43.59L10.3 9.45l-7.72 7.72c-.78.78-.78 2.05 0 2.83L4 21.41c.39.39.9.59 1.41.59.51 0 1.02-.2 1.41-.59l7.78-7.78 2.81-2.81c.8-.78.8-2.07 0-2.86zM5.41 20L4 18.59l7.72-7.72 1.47 1.35L5.41 20z\"/>\n",
              "  </svg>\n",
              "      </button>\n",
              "      \n",
              "  <style>\n",
              "    .colab-df-container {\n",
              "      display:flex;\n",
              "      flex-wrap:wrap;\n",
              "      gap: 12px;\n",
              "    }\n",
              "\n",
              "    .colab-df-convert {\n",
              "      background-color: #E8F0FE;\n",
              "      border: none;\n",
              "      border-radius: 50%;\n",
              "      cursor: pointer;\n",
              "      display: none;\n",
              "      fill: #1967D2;\n",
              "      height: 32px;\n",
              "      padding: 0 0 0 0;\n",
              "      width: 32px;\n",
              "    }\n",
              "\n",
              "    .colab-df-convert:hover {\n",
              "      background-color: #E2EBFA;\n",
              "      box-shadow: 0px 1px 2px rgba(60, 64, 67, 0.3), 0px 1px 3px 1px rgba(60, 64, 67, 0.15);\n",
              "      fill: #174EA6;\n",
              "    }\n",
              "\n",
              "    [theme=dark] .colab-df-convert {\n",
              "      background-color: #3B4455;\n",
              "      fill: #D2E3FC;\n",
              "    }\n",
              "\n",
              "    [theme=dark] .colab-df-convert:hover {\n",
              "      background-color: #434B5C;\n",
              "      box-shadow: 0px 1px 3px 1px rgba(0, 0, 0, 0.15);\n",
              "      filter: drop-shadow(0px 1px 2px rgba(0, 0, 0, 0.3));\n",
              "      fill: #FFFFFF;\n",
              "    }\n",
              "  </style>\n",
              "\n",
              "      <script>\n",
              "        const buttonEl =\n",
              "          document.querySelector('#df-c2ccfb3c-aa1e-4aae-ae82-7dd24e86d57a button.colab-df-convert');\n",
              "        buttonEl.style.display =\n",
              "          google.colab.kernel.accessAllowed ? 'block' : 'none';\n",
              "\n",
              "        async function convertToInteractive(key) {\n",
              "          const element = document.querySelector('#df-c2ccfb3c-aa1e-4aae-ae82-7dd24e86d57a');\n",
              "          const dataTable =\n",
              "            await google.colab.kernel.invokeFunction('convertToInteractive',\n",
              "                                                     [key], {});\n",
              "          if (!dataTable) return;\n",
              "\n",
              "          const docLinkHtml = 'Like what you see? Visit the ' +\n",
              "            '<a target=\"_blank\" href=https://colab.research.google.com/notebooks/data_table.ipynb>data table notebook</a>'\n",
              "            + ' to learn more about interactive tables.';\n",
              "          element.innerHTML = '';\n",
              "          dataTable['output_type'] = 'display_data';\n",
              "          await google.colab.output.renderOutput(dataTable, element);\n",
              "          const docLink = document.createElement('div');\n",
              "          docLink.innerHTML = docLinkHtml;\n",
              "          element.appendChild(docLink);\n",
              "        }\n",
              "      </script>\n",
              "    </div>\n",
              "  </div>\n",
              "  "
            ]
          },
          "metadata": {},
          "execution_count": 113
        }
      ]
    },
    {
      "cell_type": "code",
      "source": [
        "freq['sum'].describe().astype(int) # shows summary statistics for the sum values"
      ],
      "metadata": {
        "colab": {
          "base_uri": "https://localhost:8080/"
        },
        "id": "hKb-SggzEz1P",
        "outputId": "67660ebb-45ca-41de-dba3-74fb087be48b"
      },
      "execution_count": 114,
      "outputs": [
        {
          "output_type": "execute_result",
          "data": {
            "text/plain": [
              "count    1024\n",
              "mean       12\n",
              "std         3\n",
              "min         2\n",
              "25%        10\n",
              "50%        12\n",
              "75%        15\n",
              "max        26\n",
              "Name: sum, dtype: int64"
            ]
          },
          "metadata": {},
          "execution_count": 114
        }
      ]
    },
    {
      "cell_type": "code",
      "source": [
        "# The end of chapter"
      ],
      "metadata": {
        "id": "z5qfn2zkFt-C"
      },
      "execution_count": null,
      "outputs": []
    }
  ]
}